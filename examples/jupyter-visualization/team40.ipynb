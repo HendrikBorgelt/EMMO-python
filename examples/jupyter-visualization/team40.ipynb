{
 "cells": [
  {
   "cell_type": "code",
   "execution_count": 1,
   "id": "manual-intelligence",
   "metadata": {},
   "outputs": [],
   "source": [
    "from emmo import get_ontology\n",
    "#import networkx as nx\n",
    "#import plotly.graph_objects as go\n",
    "from emmo.graph import OntoGraph, cytoscapegraph\n",
    "#import pydotplus\n",
    "#import ipycytoscape\n",
    "import ipywidgets as widgets\n",
    "import owlready2\n",
    "#from networkx.readwrite.json_graph import cytoscape_data"
   ]
  },
  {
   "cell_type": "code",
   "execution_count": 2,
   "id": "inclusive-serum",
   "metadata": {},
   "outputs": [],
   "source": [
    "\n",
    "def en(s):\n",
    "    \"\"\"Returns `s` as an English location string.\"\"\"\n",
    "    return owlready2.locstr(s, lang='en')\n",
    "\n",
    "# Create Team 4.0\n",
    "from emmo import World\n",
    "world = World()\n",
    "emmo = world.get_ontology('emmo-inferred').load()\n",
    "emmo.sync_python_names()  # Syncronize annotations\n",
    "emmo.base_iri = emmo.base_iri.rstrip('/#')\n",
    "\n",
    "# fof = get_ontologt('').load()\n",
    "\n",
    "team40onto = world.get_ontology('http://sintef.no/Team4.0#')\n",
    "team40onto.base_iri = 'http://sintef.no/Team4.0#'\n",
    "team40onto.imported_ontologies.append(emmo)\n",
    "team40onto.sync_python_names()\n",
    "\n",
    "with team40onto:\n",
    "    class Team(team40onto.Collection):\n",
    "        '''Collection of people that form a team'''\n",
    "    \n",
    "    \n",
    "    class Person(team40onto.Interpreter):\n",
    "        '''A person'''\n",
    "        \n",
    "    class SINTEFPerson(team40onto.Person):\n",
    "        '''A person that works at SINTEF'''\n",
    "    \n",
    "    class SINTEFIndustryPerson(team40onto.SINTEFPerson):\n",
    "        '''A person that works at SINTEF Industry'''\n",
    "    \n",
    "    class SINTEFOceanPerson(team40onto.SINTEFPerson):\n",
    "        '''A person that works at SINTEF Ocean'''\n",
    "    \n",
    "    class Researcher(team40onto.Person):\n",
    "        '''A Researcher'''\n",
    "        \n",
    "    class Developer(team40onto.Person):\n",
    "        '''A developer'''\n",
    "    \n",
    "    class Thomas(team40onto.SINTEFOceanPerson):\n",
    "        '''A docker enthusiast'''\n",
    "        is_a = [team40onto.Developer]\n",
    "        \n",
    "    class Jesper(team40onto.SINTEFIndustryPerson):\n",
    "        '''A kayakiing enthusiast'''\n",
    "        is_a = [team40onto.Researcher]\n",
    "    \n",
    "    class Petter(team40onto.SINTEFOceanPerson):\n",
    "        '''Is an aerospace and agile-devops enthusiast'''\n",
    "        is_a = [team40onto.Developer]\n",
    "        \n",
    "    class Treesa(team40onto.SINTEFOceanPerson):\n",
    "        '''Is a go-kart enthusiast'''\n",
    "        is_a = [team40onto.Developer]\n",
    "\n",
    "    class Sylvain(team40onto.SINTEFIndustryPerson):\n",
    "        '''Is a ping-pong enthusiast'''\n",
    "        is_a = [team40onto.Researcher]\n",
    "        \n",
    "    class BjornTore(team40onto.SINTEFIndustryPerson):\n",
    "        '''A skiing enthusiast'''\n",
    "        is_a = [team40onto.Researcher]\n",
    "     \n",
    "    class Francesca(team40onto.SINTEFIndustryPerson):\n",
    "        '''Has too many hobbies'''\n",
    "        is_a = [team40onto.Researcher]\n",
    "        \n",
    "    class Team40(team40onto.Team):\n",
    "        '''A team that solve all problems 4.0'''\n",
    "        is_a = [team40onto.hasProperPart.some(team40onto.Thomas),\n",
    "                team40onto.hasProperPart.some(team40onto.Petter),\n",
    "                team40onto.hasProperPart.some(team40onto.Treesa),\n",
    "                team40onto.hasProperPart.some(team40onto.Jesper),\n",
    "                team40onto.hasProperPart.some(team40onto.Sylvain),\n",
    "                team40onto.hasProperPart.some(team40onto.BjornTore),\n",
    "                team40onto.hasProperPart.some(team40onto.Francesca),\n",
    "               ]\n",
    "team40onto.sync_attributes(class_docstring='elucidation')\n",
    "team40onto.sync_attributes(name_policy='uuid', name_prefix='EMMO_')"
   ]
  },
  {
   "cell_type": "code",
   "execution_count": null,
   "id": "united-harvard",
   "metadata": {},
   "outputs": [],
   "source": []
  },
  {
   "cell_type": "code",
   "execution_count": null,
   "id": "fresh-finland",
   "metadata": {},
   "outputs": [],
   "source": []
  },
  {
   "cell_type": "code",
   "execution_count": 3,
   "id": "seeing-season",
   "metadata": {},
   "outputs": [],
   "source": [
    "leafs = set()\n",
    "for s in team40onto.Team.subclasses():\n",
    "    leafs.update(s.subclasses())\n",
    "g = OntoGraph(team40onto, team40onto.Team40, relations='all', addnodes=True, parents=2)\n",
    "g.add_entities([team40onto.Interpreter, team40onto.Person, team40onto.SINTEFPerson])\n",
    "#g.add_entities(onto, relations='all', edgelabels=True)\n",
    "#g.dot"
   ]
  },
  {
   "cell_type": "code",
   "execution_count": 4,
   "id": "grave-democrat",
   "metadata": {},
   "outputs": [
    {
     "data": {
      "application/vnd.jupyter.widget-view+json": {
       "model_id": "72b6e73693364c28b7961bec2093e3b9",
       "version_major": 2,
       "version_minor": 0
      },
      "text/plain": [
       "HBox(children=(CytoscapeWidget(cytoscape_layout={'name': 'cola'}, cytoscape_style=[{'selector': 'node', 'css':…"
      ]
     },
     "metadata": {},
     "output_type": "display_data"
    }
   ],
   "source": [
    "graph = cytoscapegraph(g, onto=team40onto, infobox='right')\n",
    "display(graph)"
   ]
  },
  {
   "cell_type": "code",
   "execution_count": null,
   "id": "endangered-energy",
   "metadata": {},
   "outputs": [],
   "source": []
  },
  {
   "cell_type": "code",
   "execution_count": null,
   "id": "proprietary-accident",
   "metadata": {},
   "outputs": [],
   "source": [
    "\n"
   ]
  },
  {
   "cell_type": "code",
   "execution_count": null,
   "id": "brilliant-interval",
   "metadata": {},
   "outputs": [],
   "source": []
  }
 ],
 "metadata": {
  "kernelspec": {
   "display_name": "emmopy",
   "language": "python",
   "name": "emmopy"
  },
  "language_info": {
   "codemirror_mode": {
    "name": "ipython",
    "version": 3
   },
   "file_extension": ".py",
   "mimetype": "text/x-python",
   "name": "python",
   "nbconvert_exporter": "python",
   "pygments_lexer": "ipython3",
   "version": "3.8.5"
  }
 },
 "nbformat": 4,
 "nbformat_minor": 5
}
