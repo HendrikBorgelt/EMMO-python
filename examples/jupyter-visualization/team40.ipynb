{
 "cells": [
  {
   "cell_type": "code",
   "execution_count": 1,
   "id": "personal-bidding",
   "metadata": {},
   "outputs": [],
   "source": [
    "from emmo import get_ontology\n",
    "from emmo.graph import OntoGraph, cytoscapegraph\n",
    "import ipywidgets as widgets\n",
    "import owlready2"
   ]
  },
  {
   "cell_type": "code",
   "execution_count": 2,
   "id": "inappropriate-ireland",
   "metadata": {},
   "outputs": [],
   "source": [
    "\n",
    "def en(s):\n",
    "    \"\"\"Returns `s` as an English location string.\"\"\"\n",
    "    return owlready2.locstr(s, lang='en')\n",
    "\n",
    "# Create Team 4.0\n",
    "from emmo import World\n",
    "world = World()\n",
    "emmo = world.get_ontology('emmo-inferred').load()\n",
    "emmo.sync_python_names()  # Syncronize annotations\n",
    "emmo.base_iri = emmo.base_iri.rstrip('/#')\n",
    "\n",
    "# fof = get_ontologt('').load()\n",
    "\n",
    "team40onto = world.get_ontology('http://sintef.no/Team4.0#')\n",
    "team40onto.base_iri = 'http://sintef.no/Team4.0#'\n",
    "team40onto.imported_ontologies.append(emmo)\n",
    "team40onto.sync_python_names()\n",
    "\n",
    "with team40onto:\n",
    "    class Team(team40onto.Collection):\n",
    "        '''Collection of people that form a team'''\n",
    "    \n",
    "    \n",
    "    class Person(team40onto.Interpreter):\n",
    "        '''A person'''\n",
    "        \n",
    "    class SINTEFPerson(team40onto.Person):\n",
    "        '''A person that works at SINTEF'''\n",
    "    \n",
    "    class SINTEFIndustryPerson(team40onto.SINTEFPerson):\n",
    "        '''A person that works at SINTEF Industry'''\n",
    "    \n",
    "    class SINTEFOceanPerson(team40onto.SINTEFPerson):\n",
    "        '''A person that works at SINTEF Ocean'''\n",
    "    \n",
    "    #class Researcher(team40onto.Person):\n",
    "    #    '''A Researcher'''\n",
    "        \n",
    "    #class Developer(team40onto.Person):\n",
    "    #    '''A developer'''\n",
    "    \n",
    "    class Thomas(team40onto.SINTEFOceanPerson):\n",
    "        '''Ontologist, Software developer, Software architect'''\n",
    "        annotations = ['A docker enthusiast']\n",
    "        annotations.append('Plays guitar')\n",
    "        #is_a = [team40onto.Developer]\n",
    "        \n",
    "    class Jesper(team40onto.SINTEFIndustryPerson):\n",
    "        '''Atom scale modeller, Aluminum expert, Ontologist, EMMO core developer'''\n",
    "        annotations = ['A kayakiing enthusiast',\n",
    "                   'Has a biliards table in his living room']\n",
    "                   \n",
    "        \n",
    "        #is_a = [team40onto.Researcher]\n",
    "    \n",
    "    class Petter(team40onto.SINTEFOceanPerson):\n",
    "        '''Software team manager, developer'''\n",
    "        annotations = ['Aerospace enthusiast']\n",
    "        annotations.append('Agile-devops enthusiast')\n",
    "        annotations.append('A runner and has a cat')\n",
    "        #is_a = [team40onto.Developer]\n",
    "        \n",
    "    class Treesa(team40onto.SINTEFOceanPerson):\n",
    "        '''Developer'''\n",
    "        annotations = ['Is a go-kart enthusiast']\n",
    "        #is_a = [team40onto.Developer]\n",
    "\n",
    "    class Sylvain(team40onto.SINTEFIndustryPerson):\n",
    "        '''Ontologist'''\n",
    "        annotations = ['Is a ping-pong enthusiast']\n",
    "        #is_a = [team40onto.Researcher]\n",
    "        \n",
    "    class BjornTore(team40onto.SINTEFIndustryPerson):\n",
    "        '''Process chemist'''\n",
    "        annotations = ['A skiing enthusiast']\n",
    "        #is_a = [team40onto.Researcher]\n",
    "     \n",
    "    class Francesca(team40onto.SINTEFIndustryPerson):\n",
    "        '''Chemist, Atom scale modeler, Catalysis expert'''\n",
    "        annotations = ['Has too many hobbies']\n",
    "        annotations.append('Plays violin')\n",
    "        annotations.append('Sews, knits, spins, makes pottery')\n",
    "        #is_a = [team40onto.Researcher]\n",
    "        \n",
    "    class Team40(team40onto.Team):\n",
    "        '''A team that solve all problems 4.0'''\n",
    "        is_a = [team40onto.hasProperPart.some(team40onto.Thomas),\n",
    "                team40onto.hasProperPart.some(team40onto.Petter),\n",
    "                team40onto.hasProperPart.some(team40onto.Treesa),\n",
    "                team40onto.hasProperPart.some(team40onto.Jesper),\n",
    "                team40onto.hasProperPart.some(team40onto.Sylvain),\n",
    "                team40onto.hasProperPart.some(team40onto.BjornTore),\n",
    "                team40onto.hasProperPart.some(team40onto.Francesca),\n",
    "               ]\n",
    "team40onto.sync_attributes(class_docstring='elucidation')\n",
    "team40onto.sync_attributes(name_policy='uuid', name_prefix='EMMO_')"
   ]
  },
  {
   "cell_type": "code",
   "execution_count": 3,
   "id": "operating-february",
   "metadata": {},
   "outputs": [
    {
     "data": {
      "text/plain": [
       "['A kayakiing enthusiast', 'Has a biliards table in his living room']"
      ]
     },
     "execution_count": 3,
     "metadata": {},
     "output_type": "execute_result"
    }
   ],
   "source": [
    "team40onto.get_by_label('Jesper').annotations"
   ]
  },
  {
   "cell_type": "code",
   "execution_count": null,
   "id": "arranged-bullet",
   "metadata": {},
   "outputs": [],
   "source": []
  },
  {
   "cell_type": "code",
   "execution_count": 4,
   "id": "metallic-marathon",
   "metadata": {},
   "outputs": [],
   "source": [
    "leafs = set()\n",
    "for s in team40onto.Team.subclasses():\n",
    "    leafs.update(s.subclasses())\n",
    "g = OntoGraph(team40onto, team40onto.Team40, relations='all', addnodes=True, parents=2)\n",
    "g.add_entities([team40onto.Interpreter, team40onto.Person, team40onto.SINTEFPerson])\n",
    "#g.add_entities(onto, relations='all', edgelabels=True)\n",
    "#g.dot"
   ]
  },
  {
   "cell_type": "code",
   "execution_count": null,
   "id": "gentle-belgium",
   "metadata": {},
   "outputs": [],
   "source": []
  },
  {
   "cell_type": "code",
   "execution_count": 5,
   "id": "pretty-harvard",
   "metadata": {},
   "outputs": [
    {
     "data": {
      "application/vnd.jupyter.widget-view+json": {
       "model_id": "b93a3a946a4e4a9e8da1601c8d1d77d6",
       "version_major": 2,
       "version_minor": 0
      },
      "text/plain": [
       "GridspecLayout(children=(CytoscapeWidget(cytoscape_layout={'name': 'cola'}, cytoscape_style=[{'selector': 'nod…"
      ]
     },
     "metadata": {},
     "output_type": "display_data"
    }
   ],
   "source": [
    "graph = cytoscapegraph(g, onto=team40onto, infobox='right')\n",
    "display(graph)"
   ]
  },
  {
   "cell_type": "code",
   "execution_count": null,
   "id": "joint-cherry",
   "metadata": {},
   "outputs": [],
   "source": []
  },
  {
   "cell_type": "code",
   "execution_count": null,
   "id": "catholic-throat",
   "metadata": {},
   "outputs": [],
   "source": []
  },
  {
   "cell_type": "code",
   "execution_count": null,
   "id": "hollow-summit",
   "metadata": {},
   "outputs": [],
   "source": []
  },
  {
   "cell_type": "code",
   "execution_count": null,
   "id": "parliamentary-factor",
   "metadata": {},
   "outputs": [],
   "source": []
  }
 ],
 "metadata": {
  "kernelspec": {
   "display_name": "emmopy",
   "language": "python",
   "name": "emmopy"
  },
  "language_info": {
   "codemirror_mode": {
    "name": "ipython",
    "version": 3
   },
   "file_extension": ".py",
   "mimetype": "text/x-python",
   "name": "python",
   "nbconvert_exporter": "python",
   "pygments_lexer": "ipython3",
   "version": "3.8.5"
  }
 },
 "nbformat": 4,
 "nbformat_minor": 5
}
